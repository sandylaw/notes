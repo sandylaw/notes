{
 "cells": [
  {
   "cell_type": "code",
   "execution_count": null,
   "metadata": {},
   "outputs": [],
   "source": []
  },
  {
   "cell_type": "code",
   "execution_count": 5,
   "metadata": {},
   "outputs": [
    {
     "name": "stdout",
     "output_type": "stream",
     "text": [
      "Hello World\n"
     ]
    }
   ],
   "source": [
    "#include <iostream>\n",
    "std::cout << \"Hello World\" << std::endl;"
   ]
  },
  {
   "cell_type": "code",
   "execution_count": 3,
   "metadata": {},
   "outputs": [],
   "source": [
    "#include <iostream>\n",
    "#include <string>\n",
    "#include <string.h>\n",
    "using namespace std;\n",
    "map<string, int> mp{\n",
    "    {\"one\",   1},\n",
    "    {\"two\",   2},\n",
    "    {\"three\", 3},\n",
    "    {\"four\",  4}\n",
    "};\n"
   ]
  },
  {
   "cell_type": "code",
   "execution_count": 25,
   "metadata": {},
   "outputs": [
    {
     "name": "stdout",
     "output_type": "stream",
     "text": [
      "1\n"
     ]
    }
   ],
   "source": [
    "using namespace std;\n",
    "class A{};\n",
    "cout<<sizeof(A)<<endl;"
   ]
  },
  {
   "cell_type": "code",
   "execution_count": 33,
   "metadata": {},
   "outputs": [],
   "source": [
    "void assert(int expression);\n",
    "#include <stdio.h>\n",
    "#include <assert.h>\n",
    "int x=7;\n",
    "x=9;\n",
    "assert(x==7);"
   ]
  },
  {
   "cell_type": "code",
   "execution_count": 3,
   "metadata": {},
   "outputs": [
    {
     "name": "stdout",
     "output_type": "stream",
     "text": [
      "0x7fe9e233e040\n",
      "3\n"
     ]
    }
   ],
   "source": [
    "#include <iostream>\n",
    "using namespace std;\n",
    "\n",
    "int y;\n",
    "int *p = &y;\n",
    "if (p != nullptr)\n",
    "    *p = 3;\n",
    "cout << p <<endl;\n",
    "cout << y << endl;"
   ]
  },
  {
   "cell_type": "code",
   "execution_count": 5,
   "metadata": {},
   "outputs": [
    {
     "name": "stdout",
     "output_type": "stream",
     "text": [
      "10\n",
      "100\n",
      "10\n"
     ]
    }
   ],
   "source": [
    "int fc()\n",
    "{\n",
    "    int k1 = 10;\n",
    "    cout<<k1<<endl;\n",
    "    do{\n",
    "        int k1 = 100;\n",
    "        cout<<k1<<endl;\n",
    "    }while(0);\n",
    "    cout<<k1<<endl;\n",
    "    return 0;\n",
    "}\n",
    "fc();"
   ]
  },
  {
   "cell_type": "code",
   "execution_count": null,
   "metadata": {},
   "outputs": [],
   "source": []
  }
 ],
 "metadata": {
  "kernelspec": {
   "display_name": "C++11",
   "language": "C++11",
   "name": "xcpp11"
  },
  "language_info": {
   "codemirror_mode": "text/x-c++src",
   "file_extension": ".cpp",
   "mimetype": "text/x-c++src",
   "name": "c++",
   "version": "11"
  }
 },
 "nbformat": 4,
 "nbformat_minor": 4
}
